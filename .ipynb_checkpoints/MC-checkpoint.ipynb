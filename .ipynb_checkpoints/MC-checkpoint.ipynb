{
 "cells": [
  {
   "cell_type": "markdown",
   "metadata": {},
   "source": [
    "# Multiplicative Compund Matrix Generation\n",
    "Here we compute the multiplicative compund matrix of a given matrix."
   ]
  },
  {
   "cell_type": "markdown",
   "metadata": {},
   "source": [
    "## Functions"
   ]
  },
  {
   "cell_type": "code",
   "execution_count": 6,
   "metadata": {},
   "outputs": [],
   "source": [
    "#%%writefile MC_funcs.py\n",
    "\n",
    "import numpy as np\n",
    "from itertools import combinations\n",
    "\n",
    "def matrix_minor(A, r_indxs, c_indxs):\n",
    "    '''This function returns the minor of a matrix A with rows indexed by r_indxs and \n",
    "    columns by c_indxs. r_indxs and c_indxs are lists (or 1D numpy arrays), and these indexes \n",
    "    start from 0 (which is the first row/column index).'''\n",
    "    return np.linalg.det(A[np.ix_(r_indxs, c_indxs)]) if len(r_indxs)==len(c_indxs) else None\n",
    "\n",
    "def compute_MC_matrix( A, p ):\n",
    "    '''This function computes the p'th order multiplicative\n",
    "    compound matrix of the given matrix A. It returns the MC\n",
    "    matrix and the lexicography order (with 0 as the first index)'''\n",
    "    x = np.arange(np.minimum(*A.shape), dtype=int)  # 0, .., n-1, where n:=min(matrix dimensions)\n",
    "    lp = np.array(list(combinations(x, p))) # lexicography order of the p inxedes in x \n",
    "    lp_len = len(lp)\n",
    "    Q = np.array([matrix_minor(A, lp[r], lp[c]) for r in range(lp_len) for c in range(lp_len)]).reshape(lp_len, lp_len)\n",
    "    return Q, lp\n"
   ]
  },
  {
   "cell_type": "markdown",
   "metadata": {},
   "source": [
    "## Example"
   ]
  },
  {
   "cell_type": "code",
   "execution_count": 2,
   "metadata": {},
   "outputs": [
    {
     "name": "stdout",
     "output_type": "stream",
     "text": [
      "4.0\n",
      "A=\n",
      "[[2 1 0]\n",
      " [1 2 1]\n",
      " [0 1 2]]\n",
      "Q(2)=\n",
      "[[3. 2. 1.]\n",
      " [2. 4. 2.]\n",
      " [1. 2. 3.]]\n"
     ]
    }
   ],
   "source": [
    "#A = np.array([[1,2,3], [4,5,6], [7,8,9]])\n",
    "A = np.array([[1,-2,3, 0.5], [3.5, -4,5,6], [7,-8,2, -9], [3, -2, -4, 6]])\n",
    "A = np.array([[2,1,0], [1,2,1], [0,1,2]])\n",
    "p = 2\n",
    "\n",
    "# ==================================================\n",
    "w = matrix_minor(A, [0,2], [0,2])\n",
    "print(w)\n",
    "\n",
    "Q, _ = compute_MC_matrix( A, p )\n",
    "print('A=\\n{}'.format(A))\n",
    "print('Q({})=\\n{}'.format(p,Q))"
   ]
  }
 ],
 "metadata": {
  "kernelspec": {
   "display_name": "Python 3",
   "language": "python",
   "name": "python3"
  },
  "language_info": {
   "codemirror_mode": {
    "name": "ipython",
    "version": 3
   },
   "file_extension": ".py",
   "mimetype": "text/x-python",
   "name": "python",
   "nbconvert_exporter": "python",
   "pygments_lexer": "ipython3",
   "version": "3.8.0"
  }
 },
 "nbformat": 4,
 "nbformat_minor": 4
}
